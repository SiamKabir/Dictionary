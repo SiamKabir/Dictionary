{
  "nbformat": 4,
  "nbformat_minor": 0,
  "metadata": {
    "colab": {
      "provenance": []
    },
    "kernelspec": {
      "name": "python3",
      "display_name": "Python 3"
    },
    "language_info": {
      "name": "python"
    }
  },
  "cells": [
    {
      "cell_type": "code",
      "execution_count": 1,
      "metadata": {
        "colab": {
          "base_uri": "https://localhost:8080/"
        },
        "id": "IAJo8TZaBK5V",
        "outputId": "f4623be7-73fa-4670-f1f0-cce21ffdcbbb"
      },
      "outputs": [
        {
          "output_type": "stream",
          "name": "stdout",
          "text": [
            "berlin\n"
          ]
        }
      ],
      "source": [
        "# Definition of countries and capital\n",
        "countries = ['spain', 'france', 'germany', 'norway']\n",
        "capitals = ['madrid', 'paris', 'berlin', 'oslo']\n",
        "\n",
        "# Get index of 'germany'\n",
        "ind_ger = countries.index('germany')\n",
        "\n",
        "# Use ind_ger to print out capital of Germany\n",
        "print(capitals[ind_ger])\n"
      ]
    },
    {
      "cell_type": "code",
      "source": [
        "# Definition of countries and capital\n",
        "countries = ['spain', 'france', 'germany', 'norway']\n",
        "capitals = ['madrid', 'paris', 'berlin', 'oslo']\n",
        "\n",
        "# From string in countries and capitals, create dictionary europe\n",
        "europe = {\n",
        "    'spain': 'madrid',\n",
        "    'france': 'paris',\n",
        "    'germany': 'berlin',\n",
        "    'norway': 'oslo'\n",
        "}\n",
        "\n",
        "# Print europe\n",
        "print(europe)\n"
      ],
      "metadata": {
        "colab": {
          "base_uri": "https://localhost:8080/"
        },
        "id": "EUUjxIViCBm9",
        "outputId": "65d42d52-3ac2-475e-e8f6-d6c0f9119f6f"
      },
      "execution_count": 2,
      "outputs": [
        {
          "output_type": "stream",
          "name": "stdout",
          "text": [
            "{'spain': 'madrid', 'france': 'paris', 'germany': 'berlin', 'norway': 'oslo'}\n"
          ]
        }
      ]
    },
    {
      "cell_type": "code",
      "source": [
        "# Definition of dictionary\n",
        "europe = {'spain': 'madrid', 'france': 'paris', 'germany': 'berlin', 'norway': 'oslo'}\n",
        "\n",
        "# Print out the keys in europe\n",
        "print(europe.keys())\n",
        "\n",
        "# Print out value that belongs to key 'norway'\n",
        "print(europe['norway'])\n"
      ],
      "metadata": {
        "colab": {
          "base_uri": "https://localhost:8080/"
        },
        "id": "sCAltjZCCymW",
        "outputId": "e7b14849-3715-4021-f013-964ed5fd5669"
      },
      "execution_count": 3,
      "outputs": [
        {
          "output_type": "stream",
          "name": "stdout",
          "text": [
            "dict_keys(['spain', 'france', 'germany', 'norway'])\n",
            "oslo\n"
          ]
        }
      ]
    },
    {
      "cell_type": "code",
      "source": [
        "# Definition of dictionary\n",
        "europe = {'spain': 'madrid', 'france': 'paris', 'germany': 'berlin', 'norway': 'oslo'}\n",
        "\n",
        "# Add italy to europe\n",
        "europe['italy'] = 'rome'\n",
        "\n",
        "# Print out italy in europe\n",
        "print(europe['italy'])\n",
        "\n",
        "# Add poland to europe\n",
        "europe['poland'] = 'warsaw'\n",
        "\n",
        "# Print europe\n",
        "print(europe)\n"
      ],
      "metadata": {
        "colab": {
          "base_uri": "https://localhost:8080/"
        },
        "id": "eCpvKXEuDl4y",
        "outputId": "f5be7139-ccac-453b-84c5-463af35907f1"
      },
      "execution_count": 4,
      "outputs": [
        {
          "output_type": "stream",
          "name": "stdout",
          "text": [
            "rome\n",
            "{'spain': 'madrid', 'france': 'paris', 'germany': 'berlin', 'norway': 'oslo', 'italy': 'rome', 'poland': 'warsaw'}\n"
          ]
        }
      ]
    },
    {
      "cell_type": "code",
      "source": [
        "# Definition of dictionary\n",
        "europe = {'spain': 'madrid', 'france': 'paris', 'germany': 'bonn',\n",
        "          'norway': 'oslo', 'italy': 'rome', 'poland': 'warsaw',\n",
        "          'australia': 'vienna'}\n",
        "\n",
        "# Update capital of germany\n",
        "europe['germany'] = 'berlin'\n",
        "\n",
        "# Remove australia\n",
        "del europe['australia']\n",
        "\n",
        "# Print europe\n",
        "print(europe)\n"
      ],
      "metadata": {
        "colab": {
          "base_uri": "https://localhost:8080/"
        },
        "id": "jFiPgEp0ENZp",
        "outputId": "650da7f8-e8c0-43d1-b221-3fe527545418"
      },
      "execution_count": 5,
      "outputs": [
        {
          "output_type": "stream",
          "name": "stdout",
          "text": [
            "{'spain': 'madrid', 'france': 'paris', 'germany': 'berlin', 'norway': 'oslo', 'italy': 'rome', 'poland': 'warsaw'}\n"
          ]
        }
      ]
    },
    {
      "cell_type": "code",
      "source": [
        "# Dictionary of dictionaries\n",
        "europe = {\n",
        "    'spain': { 'capital': 'madrid', 'population': 46.77 },\n",
        "    'france': { 'capital': 'paris', 'population': 66.03 },\n",
        "    'germany': { 'capital': 'berlin', 'population': 80.62 },\n",
        "    'norway': { 'capital': 'oslo', 'population': 5.084 }\n",
        "}\n",
        "\n",
        "# Print out the capital of France\n",
        "print(europe['france']['capital'])\n",
        "\n",
        "# Create sub-dictionary data\n",
        "data = {\n",
        "    'capital': 'rome',\n",
        "    'population': 59.83\n",
        "}\n",
        "\n",
        "# Add data to europe under key 'italy'\n",
        "europe['italy'] = data\n",
        "\n",
        "# Print europe\n",
        "print(europe)"
      ],
      "metadata": {
        "colab": {
          "base_uri": "https://localhost:8080/"
        },
        "id": "OFHWbDHOEhQ0",
        "outputId": "500cd0d3-5393-4594-d7c3-dece4a00df90"
      },
      "execution_count": 6,
      "outputs": [
        {
          "output_type": "stream",
          "name": "stdout",
          "text": [
            "paris\n",
            "{'spain': {'capital': 'madrid', 'population': 46.77}, 'france': {'capital': 'paris', 'population': 66.03}, 'germany': {'capital': 'berlin', 'population': 80.62}, 'norway': {'capital': 'oslo', 'population': 5.084}, 'italy': {'capital': 'rome', 'population': 59.83}}\n"
          ]
        }
      ]
    }
  ]
}